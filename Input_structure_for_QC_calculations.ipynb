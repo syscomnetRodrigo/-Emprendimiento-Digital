{
  "cells": [
    {
      "cell_type": "markdown",
      "metadata": {
        "id": "view-in-github",
        "colab_type": "text"
      },
      "source": [
        "<a href=\"https://colab.research.google.com/github/syscomnetRodrigo/-Emprendimiento-Digital/blob/main/Input_structure_for_QC_calculations.ipynb\" target=\"_parent\"><img src=\"https://colab.research.google.com/assets/colab-badge.svg\" alt=\"Open In Colab\"/></a>"
      ]
    },
    {
      "cell_type": "markdown",
      "metadata": {
        "id": "0EhgF0ntKpZi"
      },
      "source": [
        "# Setup\n",
        "Please run cell below to install the required pacakages"
      ]
    },
    {
      "cell_type": "code",
      "source": [
        "! pip install rdkit\n",
        "! pip install pyscf"
      ],
      "metadata": {
        "id": "R9unNd5IcDMw",
        "outputId": "3b751542-4974-4dc4-e01d-06e9ba16ce2c",
        "colab": {
          "base_uri": "https://localhost:8080/"
        }
      },
      "execution_count": 1,
      "outputs": [
        {
          "output_type": "stream",
          "name": "stdout",
          "text": [
            "Collecting rdkit\n",
            "  Downloading rdkit-2024.9.5-cp311-cp311-manylinux_2_28_x86_64.whl.metadata (4.0 kB)\n",
            "Requirement already satisfied: numpy in /usr/local/lib/python3.11/dist-packages (from rdkit) (1.26.4)\n",
            "Requirement already satisfied: Pillow in /usr/local/lib/python3.11/dist-packages (from rdkit) (11.1.0)\n",
            "Downloading rdkit-2024.9.5-cp311-cp311-manylinux_2_28_x86_64.whl (34.3 MB)\n",
            "\u001b[2K   \u001b[90m━━━━━━━━━━━━━━━━━━━━━━━━━━━━━━━━━━━━━━━━\u001b[0m \u001b[32m34.3/34.3 MB\u001b[0m \u001b[31m33.8 MB/s\u001b[0m eta \u001b[36m0:00:00\u001b[0m\n",
            "\u001b[?25hInstalling collected packages: rdkit\n",
            "Successfully installed rdkit-2024.9.5\n",
            "Collecting pyscf\n",
            "  Downloading pyscf-2.8.0-py3-none-manylinux_2_17_x86_64.manylinux2014_x86_64.whl.metadata (6.4 kB)\n",
            "Requirement already satisfied: numpy!=1.16,!=1.17,>=1.13 in /usr/local/lib/python3.11/dist-packages (from pyscf) (1.26.4)\n",
            "Requirement already satisfied: scipy>=1.6.0 in /usr/local/lib/python3.11/dist-packages (from pyscf) (1.13.1)\n",
            "Requirement already satisfied: h5py>=2.7 in /usr/local/lib/python3.11/dist-packages (from pyscf) (3.12.1)\n",
            "Requirement already satisfied: setuptools in /usr/local/lib/python3.11/dist-packages (from pyscf) (75.1.0)\n",
            "Downloading pyscf-2.8.0-py3-none-manylinux_2_17_x86_64.manylinux2014_x86_64.whl (50.9 MB)\n",
            "\u001b[2K   \u001b[90m━━━━━━━━━━━━━━━━━━━━━━━━━━━━━━━━━━━━━━━━\u001b[0m \u001b[32m50.9/50.9 MB\u001b[0m \u001b[31m10.6 MB/s\u001b[0m eta \u001b[36m0:00:00\u001b[0m\n",
            "\u001b[?25hInstalling collected packages: pyscf\n",
            "Successfully installed pyscf-2.8.0\n"
          ]
        }
      ]
    },
    {
      "cell_type": "markdown",
      "source": [
        "# Creating structures from SMILES\n",
        "\n",
        "Molecules can be represented as strings with SMILES. Simplified molecular-input line-entry system (SMILES) is a string based representation of a molecule. (https://en.wikipedia.org/wiki/Simplified_molecular-input_line-entry_system) For example n-butane is represented as CCCC. Interactive RDKit demo for SMILES is available at https://rdkit.org/temp/demo/demo.html\n",
        "\n",
        "If you want to draw a 2D structure of molecule and obtain the SMILES representation, use this link https://pubchem.ncbi.nlm.nih.gov//edit3/index.html"
      ],
      "metadata": {
        "id": "2AkW1rX44DyO"
      }
    },
    {
      "cell_type": "code",
      "source": [
        "# import these definitions\n",
        "from rdkit import Chem\n",
        "from rdkit.Chem import Draw\n",
        "from rdkit.Chem import AllChem\n",
        "from rdkit.Chem.Draw import IPythonConsole\n",
        "IPythonConsole.drawOptions.addAtomIndices = True"
      ],
      "metadata": {
        "id": "wwFIHzDR5MYW"
      },
      "execution_count": null,
      "outputs": []
    },
    {
      "cell_type": "markdown",
      "source": [
        "Let us see how to visualize the 2D structure of toluene using SMILES"
      ],
      "metadata": {
        "id": "XFNzVKcw5fP6"
      }
    },
    {
      "cell_type": "code",
      "source": [
        "# set SMILES for toluene\n",
        "smiles = \"c1ccc(C)cc1\"\n",
        "\n",
        "# Convert to RDKit molecule\n",
        "mol = Chem.MolFromSmiles(smiles)\n",
        "\n",
        "# Draw the strucutre\n",
        "Draw.MolsToGridImage([mol])"
      ],
      "metadata": {
        "id": "ybYDoyie5Tl1"
      },
      "execution_count": null,
      "outputs": []
    },
    {
      "cell_type": "markdown",
      "source": [
        "The structure generated has implicit hydrogen atoms. We will need explicit hydrogen atoms to generate the input structure"
      ],
      "metadata": {
        "id": "5_64bBbB_Upl"
      }
    },
    {
      "cell_type": "code",
      "source": [
        "# Add hydrogens\n",
        "mol_h = Chem.AddHs(mol)\n",
        "\n",
        "# Display both structures\n",
        "Draw.MolsToGridImage([mol, mol_h], subImgSize=(300,300))"
      ],
      "metadata": {
        "id": "ceiRIEaV_jso"
      },
      "execution_count": null,
      "outputs": []
    },
    {
      "cell_type": "markdown",
      "source": [
        "The input to a quantum chemistry calculation is a 3D structure. Adding x,y,z coordinates to each atom generates a conformer. The section below generates one confomer."
      ],
      "metadata": {
        "id": "A9aY3NVr_H9N"
      }
    },
    {
      "cell_type": "code",
      "source": [
        "# The current molecule has z = 0 for all atoms\n",
        "# This is a 2D molecule\n",
        "print(Chem.MolToMolBlock(mol_h))"
      ],
      "metadata": {
        "id": "Di0gIFMEAtdr"
      },
      "execution_count": null,
      "outputs": []
    },
    {
      "cell_type": "code",
      "source": [
        "# Let us make it 3D by generating a random conformer\n",
        "Chem.AllChem.EmbedMolecule(mol_h)\n",
        "\n",
        "# look at the molecule again\n",
        "print(Chem.MolToMolBlock(mol_h))"
      ],
      "metadata": {
        "id": "q4H5lSAjAcyE"
      },
      "execution_count": null,
      "outputs": []
    },
    {
      "cell_type": "code",
      "source": [
        "# Save the molecule in XYZ format for future use\n",
        "Chem.MolToXYZFile(mol_h,\"toluene.xyz\")"
      ],
      "metadata": {
        "id": "N2zjRU2aB0PV"
      },
      "execution_count": null,
      "outputs": []
    },
    {
      "cell_type": "markdown",
      "source": [
        "Conformer generation is an active area of research.\n",
        "\n",
        "1.   https://www.rdkit.org/UGM/2012/Ebejer_20110926_RDKit_1stUGM.pdf\n",
        "2.   https://pubs.acs.org/doi/10.1021/acs.jcim.0c00025"
      ],
      "metadata": {
        "id": "BXDXbTKrn0dw"
      }
    },
    {
      "cell_type": "markdown",
      "source": [
        "## Exercise\n",
        "\n",
        "Create a 3D structure for aspirin and save the coordinated in **aspirin.xyz**"
      ],
      "metadata": {
        "id": "yuU5tyFaCeTB"
      }
    },
    {
      "cell_type": "code",
      "source": [
        "# YOUR CODE HERE"
      ],
      "metadata": {
        "id": "ZHz7owh2Cq3y"
      },
      "execution_count": null,
      "outputs": []
    },
    {
      "cell_type": "markdown",
      "source": [
        "# Manipulating the 3D structure\n",
        "\n",
        "As we saw earlier the 3D conformer is randonly generated. But we want to modify the structure before starting any quantum chemistry calculations. Wrong structures or incorrect geometries lead to bad estimates.\n",
        "\n",
        "For demonstration we will use biphenyl and change the angle between two benzene rings."
      ],
      "metadata": {
        "id": "mCwHxVhnC-or"
      }
    },
    {
      "cell_type": "markdown",
      "source": [
        "To enable numbering of atoms, set the draw options"
      ],
      "metadata": {
        "id": "yWDPb4Ih6nTG"
      }
    },
    {
      "cell_type": "code",
      "source": [
        "# create the 3D structure of toluene\n",
        "smiles = \"C1=CC=C(C=C1)C2=CC=CC=C2\"\n",
        "mol = Chem.MolFromSmiles(smiles)\n",
        "mol = Chem.AddHs(mol)\n",
        "Chem.AllChem.EmbedMolecule(mol)\n",
        "Chem.MolToXYZFile(mol, \"initial.xyz\")\n",
        "mol"
      ],
      "metadata": {
        "id": "1eWSYylmFEES"
      },
      "execution_count": null,
      "outputs": []
    },
    {
      "cell_type": "markdown",
      "source": [
        "To change the dihedral angle, we need to set the value. The dihedral angle is the angle between the two planes of benzene. We need four atoms to describe the dihedral.\n",
        "\n",
        "The syntax is\n",
        "\n",
        "Chem.AllChem.SetDihedralDeg(*conformer*,a1,a2,a3,a4,*value*)  "
      ],
      "metadata": {
        "id": "02-iO3fAGdoW"
      }
    },
    {
      "cell_type": "code",
      "source": [
        "# set the value to 90 for the conformer\n",
        "Chem.AllChem.SetDihedralDeg(mol.GetConformer(0),4,3,6,11,90.0)\n",
        "\n",
        "# save the new conformer\n",
        "Chem.MolToXYZFile(mol, \"90.xyz\")\n",
        "\n",
        "# Looks like it is set to 90\n",
        "mol"
      ],
      "metadata": {
        "id": "A2JlamE1HvLj"
      },
      "execution_count": null,
      "outputs": []
    },
    {
      "cell_type": "markdown",
      "source": [
        "## Exercise\n",
        "\n",
        "Generate the 3D structure of cis-butene and trans butene."
      ],
      "metadata": {
        "id": "vG-guGkAKU3s"
      }
    },
    {
      "cell_type": "code",
      "source": [
        "smiles = \"CC=CC\"\n",
        "mol = Chem.MolFromSmiles(smiles)\n",
        "mol"
      ],
      "metadata": {
        "colab": {
          "base_uri": "https://localhost:8080/",
          "height": 167
        },
        "id": "nomWYZgXMmn2",
        "outputId": "b45c7e03-906d-42c3-8222-b6b35e4e9715"
      },
      "execution_count": null,
      "outputs": [
        {
          "output_type": "execute_result",
          "data": {
            "text/plain": [
              "<rdkit.Chem.rdchem.Mol at 0x7fb39431d3f0>"
            ],
            "image/png": "[encoded data removed]"
          },
          "metadata": {},
          "execution_count": 10
        }
      ]
    },
    {
      "cell_type": "code",
      "source": [
        "# YOUR CODE HERE"
      ],
      "metadata": {
        "id": "ZCi1iTNxMugx"
      },
      "execution_count": null,
      "outputs": []
    },
    {
      "cell_type": "markdown",
      "source": [
        "# Combinatorial genration\n",
        "\n",
        "To study the effect of functional group substitution, we need to create a library of molcules replaing the functional group. We can do that with combinatorial method. We will consider benzene core and some functional groups"
      ],
      "metadata": {
        "id": "XdUL9ji9M9sH"
      }
    },
    {
      "cell_type": "code",
      "source": [
        "# generate the core molcule\n",
        "core = Chem.MolFromSmiles('*c1ccccc1')\n",
        "core"
      ],
      "metadata": {
        "id": "vTLo-aZGNUWf"
      },
      "execution_count": null,
      "outputs": []
    },
    {
      "cell_type": "code",
      "source": [
        "# For simplicity let's use one functional group\n",
        "functional_group = \"F\"\n",
        "functional_mol = Chem.MolFromSmiles(functional_group)\n",
        "functional_mol"
      ],
      "metadata": {
        "id": "U43ndaeAOZmd"
      },
      "execution_count": null,
      "outputs": []
    },
    {
      "cell_type": "code",
      "source": [
        "# generate the combined molecule\n",
        "product = Chem.ReplaceSubstructs(core,Chem.MolFromSmarts('[#0]'),functional_mol)\n",
        "new_smiles = Chem.MolToSmiles(product[0])\n",
        "new_mol = Chem.MolFromSmiles(new_smiles)\n",
        "\n",
        "# Draw the new molecule\n",
        "Draw.MolsToGridImage([new_mol])"
      ],
      "metadata": {
        "id": "8AimWgpnOphf"
      },
      "execution_count": null,
      "outputs": []
    },
    {
      "cell_type": "markdown",
      "source": [
        "Now do it for multiple functional groups"
      ],
      "metadata": {
        "id": "oAB4c29BPsnv"
      }
    },
    {
      "cell_type": "code",
      "source": [
        "# create a list of functional groups\n",
        "functional_groups = ['F','Cl','C','c1ccccc1Cl']\n",
        "functional_mols = [Chem.MolFromSmiles(group) for group in functional_groups]\n",
        "\n",
        "# Draw the groups\n",
        "Draw.MolsToGridImage(functional_mols)"
      ],
      "metadata": {
        "id": "AKxQCFOPNwbo"
      },
      "execution_count": null,
      "outputs": []
    },
    {
      "cell_type": "code",
      "source": [
        "product_smi = []\n",
        "for functional_mol in functional_mols:\n",
        "    product_mol = Chem.ReplaceSubstructs(core,Chem.MolFromSmarts('[#0]'),functional_mol)\n",
        "    product_smi.append(Chem.MolToSmiles(product_mol[0]))\n",
        "Draw.MolsToGridImage([Chem.MolFromSmiles(smi) for smi in product_smi])\n"
      ],
      "metadata": {
        "id": "Bomy1jvAxBZh"
      },
      "execution_count": null,
      "outputs": []
    },
    {
      "cell_type": "markdown",
      "source": [
        "# Running DFT calculation\n",
        "\n",
        "We will use PySCF which is open-source software for running quantum chemistry calculations. You can find more details here - https://pyscf.org/\n",
        "\n",
        "More tutorials and example files for PySCF are available at https://github.com/pyscf/pyscf/tree/master/examples"
      ],
      "metadata": {
        "id": "a9rlFN2iQbwn"
      }
    },
    {
      "cell_type": "code",
      "source": [
        "# import the package\n",
        "from pyscf import gto, scf"
      ],
      "metadata": {
        "id": "v_tQ-CplQuh8"
      },
      "execution_count": null,
      "outputs": []
    },
    {
      "cell_type": "markdown",
      "source": [
        "We need a 3D structure input to PSI4. Then we set other parameters - DFT functional, basis set, charge. Details about the parametrs will be discussed in the next session."
      ],
      "metadata": {
        "id": "-S7rdE-GS0kj"
      }
    },
    {
      "cell_type": "code",
      "source": [
        "# reading the xyz into PSI4 - first open the file the pass it to PSI4\n",
        "mol = gto.M(atom=\"toluene.xyz\")"
      ],
      "metadata": {
        "id": "XLHj7d9ASxJ1"
      },
      "execution_count": null,
      "outputs": []
    },
    {
      "cell_type": "code",
      "source": [
        "# set basis set\n",
        "mol.basis = \"3-21G\"\n",
        "\n",
        "# set the functional\n",
        "mf = mol.KS()\n",
        "mf.xc = 'b3lyp'"
      ],
      "metadata": {
        "id": "l2pugEgceFbz"
      },
      "execution_count": null,
      "outputs": []
    },
    {
      "cell_type": "code",
      "source": [
        "# run calculation to get total energy\n",
        "mf.kernel()"
      ],
      "metadata": {
        "id": "A5kyHnvtTSQc"
      },
      "execution_count": null,
      "outputs": []
    },
    {
      "cell_type": "markdown",
      "source": [
        "# Exercise\n",
        "\n",
        "Compute the SCF energy for cis-butene and trans-butene. Determine which is more stable (more negative value of SCF energy)"
      ],
      "metadata": {
        "id": "J8lRV1wjkIs3"
      }
    },
    {
      "cell_type": "code",
      "source": [
        "# YOUR CODE HERE"
      ],
      "metadata": {
        "id": "n3QJd61fj0UQ"
      },
      "execution_count": null,
      "outputs": []
    },
    {
      "cell_type": "markdown",
      "source": [
        "Please complete this survey to help me improve the quality of future workshops\n",
        "\n",
        "https://docs.google.com/forms/d/e/1FAIpQLSdpn3lpq1n1fA4aqLDvfA9VARsTNBnD5p6gcCtJ_VaYGiYxlA/viewform?usp=sf_link"
      ],
      "metadata": {
        "id": "cYspRTsSlNcG"
      }
    }
  ],
  "metadata": {
    "colab": {
      "name": "Input structure for QC calculations.ipynb",
      "provenance": [],
      "include_colab_link": true
    },
    "kernelspec": {
      "display_name": "Python 3",
      "name": "python3"
    },
    "language_info": {
      "name": "python"
    }
  },
  "nbformat": 4,
  "nbformat_minor": 0
}